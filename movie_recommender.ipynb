{
 "cells": [
  {
   "cell_type": "code",
   "execution_count": 15,
   "metadata": {},
   "outputs": [],
   "source": [
    "import pandas as pd\n",
    "import numpy as np\n",
    "from sklearn.feature_extraction.text import CountVectorizer\n",
    "from sklearn.metrics.pairwise import cosine_similarity\n"
   ]
  },
  {
   "cell_type": "code",
   "execution_count": 16,
   "metadata": {},
   "outputs": [],
   "source": [
    "movie_user_likes = \"Avatar\""
   ]
  },
  {
   "cell_type": "code",
   "execution_count": 3,
   "metadata": {},
   "outputs": [],
   "source": [
    "###### helper functions. Use them when needed #######\n",
    "def get_title_from_index(index):\n",
    "\treturn df[df.index == index][\"title\"].values[0]\n",
    "\n",
    "def get_index_from_title(title):\n",
    "\treturn df[df.title == title][\"index\"].values[0]"
   ]
  },
  {
   "cell_type": "code",
   "execution_count": 9,
   "metadata": {},
   "outputs": [
    {
     "data": {
      "text/plain": [
       "index                     int64\n",
       "budget                    int64\n",
       "genres                   object\n",
       "homepage                 object\n",
       "id                        int64\n",
       "keywords                 object\n",
       "original_language        object\n",
       "original_title           object\n",
       "overview                 object\n",
       "popularity              float64\n",
       "production_companies     object\n",
       "production_countries     object\n",
       "release_date             object\n",
       "revenue                   int64\n",
       "runtime                 float64\n",
       "spoken_languages         object\n",
       "status                   object\n",
       "tagline                  object\n",
       "title                    object\n",
       "vote_average            float64\n",
       "vote_count                int64\n",
       "cast                     object\n",
       "crew                     object\n",
       "director                 object\n",
       "dtype: object"
      ]
     },
     "execution_count": 9,
     "metadata": {},
     "output_type": "execute_result"
    }
   ],
   "source": [
    "##Step 1: Read CSV File\n",
    "df = pd.read_csv(\"D:/GL/data/movie recommendation engine with python/movie_dataset.csv\")\n",
    "df.dtypes"
   ]
  },
  {
   "cell_type": "code",
   "execution_count": 11,
   "metadata": {},
   "outputs": [],
   "source": [
    "##Step 2: Select Features\n",
    "features = ['keywords','cast','genres','director']\n",
    "for feature in features:\n",
    "    df[feature] = df[feature].fillna('')"
   ]
  },
  {
   "cell_type": "code",
   "execution_count": 13,
   "metadata": {},
   "outputs": [],
   "source": [
    "##Step 3: Create a column in DF which combines all selected features\n",
    "def combine_features(row):\n",
    "    return row['keywords']+\" \"+row['cast']+\" \"+row['genres']+\" \"+row['director']\n",
    "df[\"combined_features\"]=df.apply(combine_features,axis=1)"
   ]
  },
  {
   "cell_type": "code",
   "execution_count": 14,
   "metadata": {},
   "outputs": [
    {
     "data": {
      "text/plain": [
       "0       culture clash future space war space colony so...\n",
       "1       ocean drug abuse exotic island east india trad...\n",
       "2       spy based on novel secret agent sequel mi6 Dan...\n",
       "3       dc comics crime fighter terrorist secret ident...\n",
       "4       based on novel mars medallion space travel pri...\n",
       "5       dual identity amnesia sandstorm love of one's ...\n",
       "6       hostage magic horse fairy tale musical Zachary...\n",
       "7       marvel comic sequel superhero based on comic b...\n",
       "8       witch magic broom school of witchcraft wizardr...\n",
       "9       dc comics vigilante superhero based on comic b...\n",
       "10      saving the world dc comics invulnerability seq...\n",
       "11      killing undercover secret agent british secret...\n",
       "12      witch fortune teller bondage exotic island mon...\n",
       "13      texas horse survivor texas ranger partner John...\n",
       "14      saving the world dc comics superhero based on ...\n",
       "15      based on novel fictional place brother sister ...\n",
       "16      new york shield marvel comic superhero based o...\n",
       "17      sea captain mutiny sword prime minister Johnny...\n",
       "18      time travel time machine alien fictional gover...\n",
       "19      corruption elves dwarves orcs middle-earth (to...\n",
       "20      loss of father vigilante serum marvel comic sc...\n",
       "21      robin hood archer knight sherwood forest bow a...\n",
       "22      elves dwarves orcs hobbit dragon Martin Freema...\n",
       "23      england compass experiment lordship uncle Dako...\n",
       "24      film business screenplay show business film ma...\n",
       "25      shipwreck iceberg ship panic titanic Kate Wins...\n",
       "26      civil war war marvel comic sequel superhero Ch...\n",
       "27      fight u.s. navy mind reading hong kong soccer ...\n",
       "28      monster dna tyrannosaurus rex velociraptor isl...\n",
       "29      spy secret agent sociopath killer art gallery ...\n",
       "                              ...                        \n",
       "4773    salesclerk loser aftercreditsstinger Brian O'H...\n",
       "4774    dream prostitution Bobby Kendall Donald L. Bro...\n",
       "4775    mumblecore Kate Dollenmayer Mark Herlehy Chris...\n",
       "4776    office love independent film secretary misogyn...\n",
       "4777     Franky G Leo Minaya Manuel Cabral Jessica Mor...\n",
       "4778    rampage massacre killing spree Brendan Fletche...\n",
       "4779    moon philosophy burglar texas dream Richard Li...\n",
       "4780     R.L. Mann Tama Filianga Mikaal Bates Celestin...\n",
       "4781    dating divorce sex scene sex comedy anti roman...\n",
       "4782    christianity father son relationship georgia a...\n",
       "4783    possession Stephen Lang Kelly Blatz Brittany C...\n",
       "4784    mumblecore Mark Duplass Katie Aselton Rhett Wi...\n",
       "4785     Louis Brooke Allan Bryan Weku Judy Gichohi Ke...\n",
       "4786    independent film Zoe Lister-Jones Daryl Wein J...\n",
       "4787    superhero Jason Trost Lucas Till James Remar S...\n",
       "4788    gay trailer park pop culture drug dealer heroi...\n",
       "4789    addiction recovering drug addict estranged son...\n",
       "4790     Nargess Mamizadeh Maryiam Palvin Almani Mojga...\n",
       "4791    home invasion Michael Parle Emma Eliza Regan P...\n",
       "4792    japan prostitute hotel based on novel hallucin...\n",
       "4793    confession hazing gang member latino lgbt Tony...\n",
       "4794     Sasha Ramos Erin Cline Emily Rogers Anthony R...\n",
       "4795    gang audition police fake homeless actress Dar...\n",
       "4796    distrust garage identity crisis time travel ti...\n",
       "4797                    Foreign Thriller Neill Dela Llana\n",
       "4798    united states\\u2013mexico barrier legs arms pa...\n",
       "4799     Edward Burns Kerry Bish\\u00e9 Marsha Dietlein...\n",
       "4800    date love at first sight narration investigati...\n",
       "4801     Daniel Henney Eliza Coupe Bill Paxton Alan Ru...\n",
       "4802    obsession camcorder crush dream girl Drew Barr...\n",
       "Name: combined_features, Length: 4803, dtype: object"
      ]
     },
     "execution_count": 14,
     "metadata": {},
     "output_type": "execute_result"
    }
   ],
   "source": [
    "df[\"combined_features\"]"
   ]
  },
  {
   "cell_type": "code",
   "execution_count": 23,
   "metadata": {},
   "outputs": [
    {
     "name": "stdout",
     "output_type": "stream",
     "text": [
      "[[0 0 0 ... 0 0 0]\n",
      " [0 0 0 ... 0 0 0]\n",
      " [0 0 0 ... 0 0 0]\n",
      " ...\n",
      " [0 0 0 ... 0 0 0]\n",
      " [0 0 0 ... 0 0 0]\n",
      " [0 0 0 ... 0 0 0]]\n"
     ]
    }
   ],
   "source": [
    "cv = CountVectorizer()\n",
    "count_matrix = cv.fit_transform(df[\"combined_features\"])\n",
    "print(count_matrix.toarray())"
   ]
  },
  {
   "cell_type": "code",
   "execution_count": 24,
   "metadata": {},
   "outputs": [
    {
     "name": "stdout",
     "output_type": "stream",
     "text": [
      "[[1.         0.10540926 0.12038585 ... 0.         0.         0.        ]\n",
      " [0.10540926 1.         0.0761387  ... 0.03651484 0.         0.        ]\n",
      " [0.12038585 0.0761387  1.         ... 0.         0.11145564 0.        ]\n",
      " ...\n",
      " [0.         0.03651484 0.         ... 1.         0.         0.04264014]\n",
      " [0.         0.         0.11145564 ... 0.         1.         0.        ]\n",
      " [0.         0.         0.         ... 0.04264014 0.         1.        ]]\n"
     ]
    }
   ],
   "source": [
    "similarity_score = cosine_similarity(count_matrix)\n",
    "print(similarity_score)"
   ]
  },
  {
   "cell_type": "code",
   "execution_count": 25,
   "metadata": {},
   "outputs": [
    {
     "data": {
      "text/plain": [
       "(4803, 4803)"
      ]
     },
     "execution_count": 25,
     "metadata": {},
     "output_type": "execute_result"
    }
   ],
   "source": [
    "similarity_score.shape"
   ]
  },
  {
   "cell_type": "code",
   "execution_count": 26,
   "metadata": {},
   "outputs": [
    {
     "data": {
      "text/plain": [
       "array([1.        , 0.10540926, 0.12038585, ..., 0.        , 0.        ,\n",
       "       0.        ])"
      ]
     },
     "execution_count": 26,
     "metadata": {},
     "output_type": "execute_result"
    }
   ],
   "source": [
    "similarity_score[0]"
   ]
  },
  {
   "cell_type": "code",
   "execution_count": 40,
   "metadata": {},
   "outputs": [],
   "source": [
    "movie_index = get_index_from_title(movie_user_likes)\n",
    "similar_movies = list(enumerate(similarity_score[movie_index]))\n",
    "sorted_similar_movies = sorted(similar_movies,key= lambda x:x[1],reverse=True)"
   ]
  },
  {
   "cell_type": "code",
   "execution_count": 43,
   "metadata": {},
   "outputs": [
    {
     "name": "stdout",
     "output_type": "stream",
     "text": [
      "Avatar\n",
      "Guardians of the Galaxy\n",
      "Aliens\n",
      "Star Wars: Clone Wars: Volume 1\n",
      "Star Trek Into Darkness\n",
      "Star Trek Beyond\n",
      "Alien\n",
      "Lockout\n",
      "Jason X\n",
      "The Helix... Loaded\n",
      "Moonraker\n",
      "Planet of the Apes\n",
      "Galaxy Quest\n",
      "Gravity\n",
      "Alien³\n",
      "Jupiter Ascending\n",
      "The Wolverine\n",
      "Silent Running\n",
      "Zathura: A Space Adventure\n",
      "Trekkies\n",
      "Cargo\n",
      "Wing Commander\n",
      "Star Trek\n",
      "Lost in Space\n",
      "Babylon A.D.\n",
      "The Fifth Element\n",
      "Oblivion\n",
      "Titan A.E.\n",
      "AVP: Alien vs. Predator\n",
      "The Empire Strikes Back\n",
      "Dragonball Evolution\n",
      "Superman Returns\n",
      "Divergent\n",
      "John Carter\n",
      "The Black Hole\n",
      "The Ice Pirates\n",
      "Memoirs of an Invisible Man\n",
      "Starship Troopers\n",
      "The Astronaut's Wife\n",
      "Machete Kills\n",
      "Soldier\n",
      "The Abyss\n",
      "Damnation Alley\n",
      "Men in Black\n",
      "Space Cowboys\n",
      "Space Dogs\n",
      "The Time Machine\n",
      "Sheena\n",
      "Captain America: Civil War\n",
      "Star Trek: Insurrection\n",
      "Oz: The Great and Powerful\n"
     ]
    }
   ],
   "source": [
    "i=0\n",
    "for movie in sorted_similar_movies:\n",
    "    print(get_title_from_index(movie[0]))\n",
    "    i = i+1\n",
    "    if i>50:\n",
    "        break"
   ]
  },
  {
   "cell_type": "code",
   "execution_count": null,
   "metadata": {},
   "outputs": [],
   "source": []
  }
 ],
 "metadata": {
  "kernelspec": {
   "display_name": "Python 3",
   "language": "python",
   "name": "python3"
  },
  "language_info": {
   "codemirror_mode": {
    "name": "ipython",
    "version": 3
   },
   "file_extension": ".py",
   "mimetype": "text/x-python",
   "name": "python",
   "nbconvert_exporter": "python",
   "pygments_lexer": "ipython3",
   "version": "3.7.3"
  }
 },
 "nbformat": 4,
 "nbformat_minor": 2
}
